{
 "cells": [
  {
   "cell_type": "code",
   "execution_count": null,
   "metadata": {},
   "outputs": [],
   "source": [
    "import sys\n",
    "\n",
    "# Import Python Libraries\n",
    "\n",
    "import numpy as np\n",
    "\n",
    "import pandas as pd\n",
    "\n",
    "#import scipy as sp\n",
    "\n",
    "from datetime import datetime\n",
    "\n",
    "import matplotlib\n",
    "\n",
    "import matplotlib.pyplot as plt\n",
    "\n",
    "% matplotlib inline\n",
    "\n",
    "from IPython.display import display, HTML"
   ]
  },
  {
   "cell_type": "code",
   "execution_count": null,
   "metadata": {},
   "outputs": [],
   "source": [
    "# Import Libraries to control STK\n",
    "\n",
    "import os\n",
    "import win32com.client as win32"
   ]
  },
  {
   "cell_type": "raw",
   "metadata": {},
   "source": [
    "#from stk import AstrogatorOutput\n",
    "# Start STK, or get handle if it's already running\n",
    "\n",
    "# stk_app = win32.gencache.EnsureDispatch('STK11.Application')\n",
    "\n",
    "# print(stk_app.__module__)\n"
   ]
  },
  {
   "cell_type": "raw",
   "metadata": {},
   "source": [
    "# Get pointers to the base objects\n",
    "\n",
    "# STK = stk_app.Personality # Personality is not used for this example, but used for Astrogator.\n",
    "\n",
    "# root = stk_app.Personality2\n",
    "\n",
    "# Make it so we can see STK\n",
    "\n",
    "# stk_app.Visible = True"
   ]
  },
  {
   "cell_type": "raw",
   "metadata": {},
   "source": [
    "# import os, sys\n",
    "import numpy"
   ]
  },
  {
   "cell_type": "raw",
   "metadata": {},
   "source": [
    "print(os.getcwd())\n",
    "# sys.path.append(os.getcwd() + '/demos')\n",
    "# sys.path.append(os.getcwd() + '/MY_functions')\n",
    "# sys.path.append(os.getcwd() + '/tests')\n",
    "sys.path"
   ]
  },
  {
   "cell_type": "raw",
   "metadata": {},
   "source": [
    "# from OrbitStatistics import CartCovSymmetricFromCartCovSTK\n",
    "from OrbitalElementsFromCartState import OrbitPeriodFromSma"
   ]
  },
  {
   "cell_type": "raw",
   "metadata": {},
   "source": [
    "print(numpy.version.version)\n",
    "assert(numpy.__version__ == '1.14.0')"
   ]
  },
  {
   "cell_type": "raw",
   "metadata": {},
   "source": [
    "print(OrbitPeriodFromSma(10, 387965086546890000))\n",
    "period = OrbitPeriodFromSma(10, 387965086546890000)"
   ]
  },
  {
   "cell_type": "raw",
   "metadata": {},
   "source": [
    "# assert(OrbitPeriodFromSma(10, 387965086546890000) == period + 1), \"Assertion FAILED: Orbit Period test result does not match\""
   ]
  },
  {
   "cell_type": "raw",
   "metadata": {},
   "source": [
    "# assert(OrbitPeriodFromSma(10, 387965086546890000) == period), \"Won't see this comment unless Orbit Period test result does not match\""
   ]
  },
  {
   "cell_type": "raw",
   "metadata": {},
   "source": [
    "# raise ValueError('Testing failure to see what AppVeyor does')"
   ]
  }
 ],
 "metadata": {
  "kernelspec": {
   "display_name": "python3",
   "language": "python",
   "name": "python3"
  },
  "language_info": {
   "codemirror_mode": {
    "name": "ipython",
    "version": 3
   },
   "file_extension": ".py",
   "mimetype": "text/x-python",
   "name": "python",
   "nbconvert_exporter": "python",
   "pygments_lexer": "ipython3",
   "version": "3.6.4"
  }
 },
 "nbformat": 4,
 "nbformat_minor": 2
}
