{
 "cells": [
  {
   "cell_type": "code",
   "execution_count": null,
   "metadata": {},
   "outputs": [],
   "source": [
    "%matplotlib inline\n",
    "\n",
    "import sys\n",
    "\n",
    "# Import Python Libraries\n",
    "\n",
    "import numpy as np\n",
    "\n",
    "import pandas as pd\n",
    "\n",
    "#import scipy as sp\n",
    "\n",
    "from datetime import datetime\n",
    "\n",
    "import matplotlib\n",
    "\n",
    "import matplotlib.pyplot as plt\n",
    "\n",
    "\n",
    "\n",
    "from IPython.display import display, HTML"
   ]
  },
  {
   "cell_type": "code",
   "execution_count": null,
   "metadata": {},
   "outputs": [],
   "source": [
    "# Import Libraries to control STK\n",
    "\n",
    "import os\n",
    "import win32com.client as win32"
   ]
  },
  {
   "cell_type": "raw",
   "metadata": {},
   "source": [
    "# from stk import AstrogatorOutput\n",
    "# Start STK, or get handle if it's already running\n",
    "\n",
    "stk_app = win32.gencache.EnsureDispatch('STK11.Application')\n",
    "\n",
    "print(stk_app.__module__)\n"
   ]
  },
  {
   "cell_type": "raw",
   "metadata": {},
   "source": [
    "# Get pointers to the base objects\n",
    "\n",
    "# STK = stk_app.Personality # Personality is not used for this example, but used for Astrogator.\n",
    "\n",
    "# root = stk_app.Personality2\n",
    "\n",
    "# Make it so we can see STK\n",
    "\n",
    "# stk_app.Visible = True"
   ]
  },
  {
   "cell_type": "raw",
   "metadata": {},
   "source": [
    "# import os, sys\n",
    "import numpy"
   ]
  },
  {
   "cell_type": "raw",
   "metadata": {},
   "source": [
    "print(os.getcwd())\n",
    "# sys.path.append(os.getcwd() + '/demos')\n",
    "# sys.path.append(os.getcwd() + '/MY_functions')\n",
    "# sys.path.append(os.getcwd() + '/tests')\n",
    "sys.path"
   ]
  },
  {
   "cell_type": "code",
   "execution_count": null,
   "metadata": {},
   "outputs": [],
   "source": [
    "# from OrbitStatistics import CartCovSymmetricFromCartCovSTK\n",
    "from OrbitalElementsFromCartState import OrbitPeriodFromSma"
   ]
  },
  {
   "cell_type": "raw",
   "metadata": {},
   "source": [
    "print(numpy.version.version)\n",
    "assert(numpy.__version__ == '1.14.0')"
   ]
  },
  {
   "cell_type": "code",
   "execution_count": null,
   "metadata": {},
   "outputs": [],
   "source": [
    "print(OrbitPeriodFromSma(10, 387965086546890000))\n",
    "period = OrbitPeriodFromSma(10, 387965086546890000)"
   ]
  },
  {
   "cell_type": "raw",
   "metadata": {},
   "source": [
    "# assert(OrbitPeriodFromSma(10, 387965086546890000) == period + 1), \"Assertion FAILED: Orbit Period test result does not match\""
   ]
  },
  {
   "cell_type": "code",
   "execution_count": null,
   "metadata": {},
   "outputs": [],
   "source": [
    "assert(OrbitPeriodFromSma(10, 387965086546890000) == period), \"Won't see this comment unless Orbit Period test result does not match\""
   ]
  },
  {
   "cell_type": "raw",
   "metadata": {},
   "source": [
    "# raise ValueError('Testing failure to see what AppVeyor does')"
   ]
  },
  {
   "cell_type": "code",
   "execution_count": 1,
   "metadata": {},
   "outputs": [],
   "source": [
    "def addTEST(a, b):\n",
    "    '''\n",
    "    This is the test:\n",
    "    >>> assert addTEST(2,2)==8\n",
    "\n",
    "    >>> assert addTEST(10,3)==13\n",
    "    \n",
    "    '''\n",
    "    # Failed assert in doctest = travis pass\n",
    "    # PDB debugger is difficult to get out of. Only enable this if you are sitting with the test\n",
    "    # and able to restart the kernel. The notebook won't proceed if you enable this.\n",
    "    # import pdb; pdb.set_trace() # Uncomment this line to start the PDB debugger at this point.\n",
    "    return a + b"
   ]
  },
  {
   "cell_type": "code",
   "execution_count": 2,
   "metadata": {},
   "outputs": [
    {
     "name": "stdout",
     "output_type": "stream",
     "text": [
      "Trying:\n",
      "    assert addTEST(2,2)==8\n",
      "Expecting nothing\n",
      "**********************************************************************\n",
      "File \"__main__\", line 4, in __main__.addTEST\n",
      "Failed example:\n",
      "    assert addTEST(2,2)==8\n",
      "Exception raised:\n",
      "    Traceback (most recent call last):\n",
      "      File \"C:\\Users\\macuser\\Anaconda3\\lib\\doctest.py\", line 1330, in __run\n",
      "        compileflags, 1), test.globs)\n",
      "      File \"<doctest __main__.addTEST[0]>\", line 1, in <module>\n",
      "        assert addTEST(2,2)==8\n",
      "    AssertionError\n",
      "Trying:\n",
      "    assert addTEST(10,3)==13\n",
      "Expecting nothing\n",
      "ok\n",
      "1 items had no tests:\n",
      "    __main__\n",
      "**********************************************************************\n",
      "1 items had failures:\n",
      "   1 of   2 in __main__.addTEST\n",
      "2 tests in 2 items.\n",
      "1 passed and 1 failed.\n",
      "***Test Failed*** 1 failures.\n"
     ]
    },
    {
     "data": {
      "text/plain": [
       "TestResults(failed=1, attempted=2)"
      ]
     },
     "execution_count": 2,
     "metadata": {},
     "output_type": "execute_result"
    }
   ],
   "source": [
    "# add these 2 lines at the end of the notebook\n",
    "import doctest\n",
    "# pytest --doctest-modules --doctest-report none\n",
    "doctest.testmod(verbose=True)"
   ]
  },
  {
   "cell_type": "code",
   "execution_count": null,
   "metadata": {},
   "outputs": [],
   "source": []
  }
 ],
 "metadata": {
  "kernelspec": {
   "display_name": "python3",
   "language": "python",
   "name": "python3"
  },
  "language_info": {
   "codemirror_mode": {
    "name": "ipython",
    "version": 3
   },
   "file_extension": ".py",
   "mimetype": "text/x-python",
   "name": "python",
   "nbconvert_exporter": "python",
   "pygments_lexer": "ipython3",
   "version": "3.6.4"
  }
 },
 "nbformat": 4,
 "nbformat_minor": 2
}
